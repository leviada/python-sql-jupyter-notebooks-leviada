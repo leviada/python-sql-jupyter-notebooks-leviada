{
 "cells": [
  {
   "cell_type": "markdown",
   "metadata": {},
   "source": [
    "# SQL Learning Activities\n",
    "\n",
    "Complete all the tasks below in a Jupyter notebook using a mixture of Python and SQL.\n"
   ]
  },
  {
   "cell_type": "markdown",
   "metadata": {},
   "source": [
    "**1)** Create a SQL database called **email_addresses** that contains a table called **names** with the following data:\n",
    "\n",
    "| ID | FirstName | Surname   | Email                  |\n",
    "|----|-----------|-----------|------------------------|\n",
    "| 1  | Mark      | Campbell  | markcampbell@ada.ac.uk |\n",
    "| 2  | Steve     | Rich      | steve@ada.ac.uk        |\n",
    "| 3  | Ian       | Dickerson | ian@ada.ac.uk          |\n",
    "| 4  | Vicky     | Clarke    | vicky@ada.ac.uk        |\n",
    "| 5  | Stuart    | Noss      | stuart@ada.ac.uk       |\n"
   ]
  },
  {
   "cell_type": "code",
   "execution_count": 4,
   "metadata": {},
   "outputs": [
    {
     "name": "stdout",
     "output_type": "stream",
     "text": [
      "Enter unique ID number: 1\n",
      "Enter the First name: Mark\n",
      "Enter the Surname: Campbell\n",
      "Enter the Email: markcampbell@ada.ac.uk\n"
     ]
    }
   ],
   "source": [
    "# Answer to question 1 here\n",
    "import sqlite3\n",
    "with sqlite3.connect(\"email_addresses\") as db:\n",
    "    cursor = db.cursor()\n",
    "cursor.execute(\"\"\"CREATE TABLE IF NOT EXISTS email_addresses(ID integer PRIMARY KEY, \n",
    "FirstName text NOT NULL, Surname text NOT NULL, email text);\"\"\")\n",
    "newID = input(\"Enter unique ID number: \")\n",
    "newName = input(\"Enter the First name: \")\n",
    "newSurname = input(\"Enter the Surname: \")\n",
    "newEmail = input(\"Enter the Email: \")\n",
    "cursor.execute((\"\"\"INSERT INTO pet VALUES(?,?,?,?)\"\"\"),(newID, newName, newSurname, newEmail))\n",
    "db.commit()"
   ]
  },
  {
   "cell_type": "markdown",
   "metadata": {},
   "source": [
    "**2)** Create a new SQL database called BookInfo that will store a list of authors and the books they wrtoe. It will have two tables. The first one should be called **authors** and contain the following data:\n",
    "\n",
    "| Name                | BirthPlace     |\n",
    "|---------------------|----------------|\n",
    "| HP Lovecraft        | Providence     |\n",
    "| Ramsey Campbell     | Liverpool      |\n",
    "| August Derleth      | Sauk City      |\n",
    "| Robert A.W. Lowndes | Rhode Island   |\n",
    "\n",
    "The second one should be called **books** and contain the following data:\n",
    "\n",
    "| ID | Title                           | Author              | YearPublished  |\n",
    "|----|---------------------------------|---------------------|----------------|\n",
    "| 1  | Call of Cthulhu                 | HP Lovecraft        | 1928           |\n",
    "| 2  | The Last Voice They Hear        | Ramsey Campbell     | 1998           |\n",
    "| 3  | Believer's World                | Robert A.W. Lowndes | 1961           |\n",
    "| 4  | The Case of Charles Dexter Ward | HP Lovecraft        | 1941           |\n",
    "| 5  | Something Near                  | August Derleth      | 1945           |\n",
    "| 6  | Lonesome Places                 | August Derleth      | 1962           |\n",
    "| 7  | From Beyond                     | HP Lovecraft        | 1934           |\n",
    "| 8  | Dwellers in Darkness            | August Derleth      | 1976           |\n",
    "| 9  | The Long Lost                   | Ramsey Campbell     | 1983           |\n",
    "| 10 | The Duplicated Man              | Robert A.W. Lowndes | 1959           |\n",
    "| 11 | The Tomb                        | HP Lovecraft        | 1922           |\n",
    "| 12 | The Claw                        | Ramsey Campbell     | 1983           |"
   ]
  },
  {
   "cell_type": "raw",
   "metadata": {},
   "source": []
  },
  {
   "cell_type": "code",
   "execution_count": 17,
   "metadata": {},
   "outputs": [
    {
     "name": "stdout",
     "output_type": "stream",
     "text": [
      "Enter unique ID number: 7\n",
      "enter the name of the author6\n",
      "enter the unique ID number1\n",
      "enter the title1\n",
      "the place the author was born1\n",
      "enter the year the book was made1\n",
      "enter the name of the author1\n"
     ]
    },
    {
     "ename": "OperationalError",
     "evalue": "table authors has 2 columns but 3 values were supplied",
     "output_type": "error",
     "traceback": [
      "\u001b[0;31m---------------------------------------------------------------------------\u001b[0m",
      "\u001b[0;31mOperationalError\u001b[0m                          Traceback (most recent call last)",
      "\u001b[0;32m<ipython-input-17-9db9699759d4>\u001b[0m in \u001b[0;36m<module>\u001b[0;34m\u001b[0m\n\u001b[1;32m     16\u001b[0m \u001b[0mcursor\u001b[0m\u001b[0;34m.\u001b[0m\u001b[0mexecute\u001b[0m\u001b[0;34m(\u001b[0m\u001b[0;34m(\u001b[0m\u001b[0;34m\"\"\"INSERT INTO books VALUES(?,?,?)\"\"\"\u001b[0m\u001b[0;34m)\u001b[0m\u001b[0;34m,\u001b[0m\u001b[0;34m(\u001b[0m\u001b[0mnewID\u001b[0m\u001b[0;34m,\u001b[0m \u001b[0mnewtitle\u001b[0m\u001b[0;34m,\u001b[0m \u001b[0mnewyear\u001b[0m\u001b[0;34m)\u001b[0m\u001b[0;34m)\u001b[0m\u001b[0;34m\u001b[0m\u001b[0;34m\u001b[0m\u001b[0m\n\u001b[1;32m     17\u001b[0m \u001b[0mdb\u001b[0m\u001b[0;34m.\u001b[0m\u001b[0mcommit\u001b[0m\u001b[0;34m(\u001b[0m\u001b[0;34m)\u001b[0m\u001b[0;34m\u001b[0m\u001b[0;34m\u001b[0m\u001b[0m\n\u001b[0;32m---> 18\u001b[0;31m \u001b[0mcursor\u001b[0m\u001b[0;34m.\u001b[0m\u001b[0mexecute\u001b[0m\u001b[0;34m(\u001b[0m\u001b[0;34m(\u001b[0m\u001b[0;34m\"\"\"INSERT INTO authors VALUES(?,?,?)\"\"\"\u001b[0m\u001b[0;34m)\u001b[0m\u001b[0;34m,\u001b[0m\u001b[0;34m(\u001b[0m\u001b[0mnewauthorID\u001b[0m\u001b[0;34m,\u001b[0m \u001b[0mnewauthor\u001b[0m\u001b[0;34m,\u001b[0m \u001b[0mnewbp\u001b[0m\u001b[0;34m)\u001b[0m\u001b[0;34m)\u001b[0m\u001b[0;34m\u001b[0m\u001b[0;34m\u001b[0m\u001b[0m\n\u001b[0m\u001b[1;32m     19\u001b[0m \u001b[0mdb\u001b[0m\u001b[0;34m.\u001b[0m\u001b[0mcommit\u001b[0m\u001b[0;34m(\u001b[0m\u001b[0;34m)\u001b[0m\u001b[0;34m\u001b[0m\u001b[0;34m\u001b[0m\u001b[0m\n",
      "\u001b[0;31mOperationalError\u001b[0m: table authors has 2 columns but 3 values were supplied"
     ]
    }
   ],
   "source": [
    "# Answer to question 2 here\n",
    "import sqlite3\n",
    "with sqlite3.connect(\"BookInfo\") as db:\n",
    "    cursor = db.cursor()\n",
    "\n",
    "cursor.execute(\"\"\"CREATE TABLE IF NOT EXISTS authors(Name text NOT NULL PRIMARY KEY,Place of Birth text NOT NULL);\"\"\")\n",
    "\n",
    "cursor.execute(\"\"\"CREATE TABLE IF NOT EXISTS books(ID integer PRIMARY KEY, Title text NOT NULL, YearPublished INTEGER NOT NULL);\"\"\")\n",
    "newID = input(\"Enter unique ID number: \")\n",
    "newauthor= input(\"enter the name of the author\")\n",
    "newauthorID = input(\"enter the unique ID number\")\n",
    "newtitle = input(\"enter the title\")\n",
    "newbp = input(\"the place the author was born\")\n",
    "newyear =input(\"enter the year the book was made\")\n",
    "newauthor = input(\"enter the name of the author\")\n",
    "cursor.execute((\"\"\"INSERT INTO books VALUES(?,?,?)\"\"\"),(newID, newtitle, newyear))\n",
    "db.commit()\n",
    "cursor.execute((\"\"\"INSERT INTO authors VALUES(?,?,?)\"\"\"),(newauthorID, newauthor, newbp))\n",
    "db.commit()"
   ]
  },
  {
   "cell_type": "markdown",
   "metadata": {},
   "source": [
    "**3)** Using the BookInfo database from question 2 above, display the list of authors and their place of birth. Ask the user to enter a place of birth and then show the title, date published and author's name for all the books by authors who were born in the location they selected."
   ]
  },
  {
   "cell_type": "code",
   "execution_count": null,
   "metadata": {},
   "outputs": [],
   "source": [
    "# Answer to question 3 here\n",
    "SELECT * FROM authors\n",
    "pb = input(\"where were you born\")\n",
    "SELECT * FROM books WHERE newbp = pb\n"
   ]
  },
  {
   "cell_type": "markdown",
   "metadata": {},
   "source": [
    "**4)** Using the BookInfo database, ask the user to enter a year and display all the books published after that year, sorted by the year they were published."
   ]
  },
  {
   "cell_type": "code",
   "execution_count": null,
   "metadata": {},
   "outputs": [],
   "source": [
    "# Answer to question 4 here"
   ]
  },
  {
   "cell_type": "code",
   "execution_count": null,
   "metadata": {},
   "outputs": [],
   "source": [
    "year = input(\"waht year do you want\")\n",
    "SELECT * FROM BookInfo WHERE newyear = year"
   ]
  },
  {
   "cell_type": "code",
   "execution_count": null,
   "metadata": {},
   "outputs": [],
   "source": []
  },
  {
   "cell_type": "code",
   "execution_count": null,
   "metadata": {},
   "outputs": [],
   "source": []
  }
 ],
 "metadata": {
  "kernelspec": {
   "display_name": "Python 3",
   "language": "python",
   "name": "python3"
  },
  "language_info": {
   "codemirror_mode": {
    "name": "ipython",
    "version": 3
   },
   "file_extension": ".py",
   "mimetype": "text/x-python",
   "name": "python",
   "nbconvert_exporter": "python",
   "pygments_lexer": "ipython3",
   "version": "3.6.8"
  }
 },
 "nbformat": 4,
 "nbformat_minor": 2
}
