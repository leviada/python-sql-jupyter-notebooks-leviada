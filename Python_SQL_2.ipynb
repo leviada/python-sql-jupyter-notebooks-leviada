{
 "cells": [
  {
   "cell_type": "markdown",
   "metadata": {},
   "source": [
    "# SQL Learning Activities\n",
    "\n",
    "Complete all the tasks below in a Jupyter notebook using a mixture of Python and SQL.\n"
   ]
  },
  {
   "cell_type": "markdown",
   "metadata": {},
   "source": [
    "**1)** Create a SQL database called **email_addresses** that contains a table called **names** with the following data:\n",
    "\n",
    "| ID | FirstName | Surname   | Email                  |\n",
    "|----|-----------|-----------|------------------------|\n",
    "| 1  | Mark      | Campbell  | markcampbell@ada.ac.uk |\n",
    "| 2  | Steve     | Rich      | steve@ada.ac.uk        |\n",
    "| 3  | Ian       | Dickerson | ian@ada.ac.uk          |\n",
    "| 4  | Vicky     | Clarke    | vicky@ada.ac.uk        |\n",
    "| 5  | Stuart    | Noss      | stuart@ada.ac.uk       |\n"
   ]
  },
  {
   "cell_type": "code",
   "execution_count": 4,
   "metadata": {},
   "outputs": [
    {
     "name": "stdout",
     "output_type": "stream",
     "text": [
      "Enter unique ID number: 1\n",
      "Enter the First name: Mark\n",
      "Enter the Surname: Campbell\n",
      "Enter the Email: markcampbell@ada.ac.uk\n"
     ]
    }
   ],
   "source": [
    "# Answer to question 1 here\n",
    "import sqlite3\n",
    "with sqlite3.connect(\"email_addresses\") as db:\n",
    "    cursor = db.cursor()\n",
    "cursor.execute(\"\"\"CREATE TABLE IF NOT EXISTS email_addresses(ID integer PRIMARY KEY, \n",
    "FirstName text NOT NULL, Surname text NOT NULL, email text);\"\"\")\n",
    "newID = input(\"Enter unique ID number: \")\n",
    "newName = input(\"Enter the First name: \")\n",
    "newSurname = input(\"Enter the Surname: \")\n",
    "newEmail = input(\"Enter the Email: \")\n",
    "cursor.execute((\"\"\"INSERT INTO pet VALUES(?,?,?,?)\"\"\"),(newID, newName, newSurname, newEmail))\n",
    "db.commit()"
   ]
  },
  {
   "cell_type": "raw",
   "metadata": {},
   "source": [
    "# **2)** Create a new SQL database called BookInfo that will store a list of authors and the books they wrtoe. It will have two tables. The first one should be called **authors** and contain the following data:\n",
    "\n",
    "| Name                | BirthPlace     |\n",
    "|---------------------|----------------|\n",
    "| HP Lovecraft        | Providence     |\n",
    "| Ramsey Campbell     | Liverpool      |\n",
    "| August Derleth      | Sauk City      |\n",
    "| Robert A.W. Lowndes | Rhode Island   |\n",
    "\n",
    "The second one should be called **books** and contain the following data:\n",
    "\n",
    "| ID | Title                           | Author              | YearPublished  |\n",
    "|----|---------------------------------|---------------------|----------------|\n",
    "| 1  | Call of Cthulhu                 | HP Lovecraft        | 1928           |\n",
    "| 2  | The Last Voice They Hear        | Ramsey Campbell     | 1998           |\n",
    "| 3  | Believer's World                | Robert A.W. Lowndes | 1961           |\n",
    "| 4  | The Case of Charles Dexter Ward | HP Lovecraft        | 1941           |\n",
    "| 5  | Something Near                  | August Derleth      | 1945           |\n",
    "| 6  | Lonesome Places                 | August Derleth      | 1962           |\n",
    "| 7  | From Beyond                     | HP Lovecraft        | 1934           |\n",
    "| 8  | Dwellers in Darkness            | August Derleth      | 1976           |\n",
    "| 9  | The Long Lost                   | Ramsey Campbell     | 1983           |\n",
    "| 10 | The Duplicated Man              | Robert A.W. Lowndes | 1959           |\n",
    "| 11 | The Tomb                        | HP Lovecraft        | 1922           |\n",
    "| 12 | The Claw                        | Ramsey Campbell     | 1983           |"
   ]
  },
  {
   "cell_type": "raw",
   "metadata": {},
   "source": []
  },
  {
   "cell_type": "code",
   "execution_count": 13,
   "metadata": {},
   "outputs": [
    {
     "name": "stdout",
     "output_type": "stream",
     "text": [
      "Enter unique ID number of the book : 999\n",
      "enter the name of the author12\n",
      "enter the title12\n",
      "the place the author was born12\n",
      "enter the year the book was made12\n",
      "enter the name of the author12\n"
     ]
    }
   ],
   "source": [
    "# Answer to question 2 here\n",
    "import sqlite3\n",
    "with sqlite3.connect(\"BookInfo\") as db:\n",
    "    cursor = db.cursor()\n",
    "\n",
    "cursor.execute(\"\"\"CREATE TABLE IF NOT EXISTS authors(Name text NOT NULL PRIMARY KEY,PlaceofBirth text NOT NULL);\"\"\")\n",
    "\n",
    "cursor.execute(\"\"\"CREATE TABLE IF NOT EXISTS books(ID integer PRIMARY KEY UNIQUE, Title text NOT NULL, YearPublished INTEGER NOT NULL);\"\"\")\n",
    "newID = input(\"Enter unique ID number of the book : \")\n",
    "newauthor= input(\"enter the name of the author\")\n",
    "newtitle = input(\"enter the title\")\n",
    "newbp = input(\"the place the author was born\")\n",
    "newyear =input(\"enter the year the book was made\")\n",
    "newauthor = input(\"enter the name of the author\")\n",
    "cursor.execute((\"\"\"INSERT INTO books VALUES(?,?,?)\"\"\"),(newID, newtitle, newyear))\n",
    "db.commit()\n",
    "cursor.execute((\"\"\"INSERT INTO authors VALUES(?,?)\"\"\"),( newauthor, newbp))\n",
    "db.commit()"
   ]
  },
  {
   "cell_type": "markdown",
   "metadata": {},
   "source": [
    "**3)** Using the BookInfo database from question 2 above, display the list of authors and their place of birth. Ask the user to enter a place of birth and then show the title, date published and author's name for all the books by authors who were born in the location they selected."
   ]
  },
  {
   "cell_type": "code",
   "execution_count": 12,
   "metadata": {},
   "outputs": [
    {
     "name": "stdout",
     "output_type": "stream",
     "text": [
      "where were you born1\n"
     ]
    },
    {
     "ename": "OperationalError",
     "evalue": "no such column: PlaceofBirth",
     "output_type": "error",
     "traceback": [
      "\u001b[0;31m---------------------------------------------------------------------------\u001b[0m",
      "\u001b[0;31mOperationalError\u001b[0m                          Traceback (most recent call last)",
      "\u001b[0;32m<ipython-input-12-e3d7b8b7f70c>\u001b[0m in \u001b[0;36m<module>\u001b[0;34m\u001b[0m\n\u001b[1;32m      2\u001b[0m \u001b[0mcursor\u001b[0m\u001b[0;34m.\u001b[0m\u001b[0mexecute\u001b[0m\u001b[0;34m(\u001b[0m\u001b[0;34m\"SELECT * from authors\"\u001b[0m\u001b[0;34m)\u001b[0m\u001b[0;34m\u001b[0m\u001b[0;34m\u001b[0m\u001b[0m\n\u001b[1;32m      3\u001b[0m \u001b[0mpb\u001b[0m \u001b[0;34m=\u001b[0m \u001b[0minput\u001b[0m\u001b[0;34m(\u001b[0m\u001b[0;34m\"where were you born\"\u001b[0m\u001b[0;34m)\u001b[0m\u001b[0;34m\u001b[0m\u001b[0;34m\u001b[0m\u001b[0m\n\u001b[0;32m----> 4\u001b[0;31m \u001b[0mcursor\u001b[0m\u001b[0;34m.\u001b[0m\u001b[0mexecute\u001b[0m\u001b[0;34m(\u001b[0m\u001b[0;34m\"SELECT * from books where PlaceofBirth=?\"\u001b[0m\u001b[0;34m,\u001b[0m\u001b[0;34m[\u001b[0m\u001b[0mpb\u001b[0m\u001b[0;34m]\u001b[0m\u001b[0;34m)\u001b[0m\u001b[0;34m\u001b[0m\u001b[0;34m\u001b[0m\u001b[0m\n\u001b[0m\u001b[1;32m      5\u001b[0m \u001b[0;32mfor\u001b[0m \u001b[0mx\u001b[0m \u001b[0;32min\u001b[0m \u001b[0mcursor\u001b[0m\u001b[0;34m.\u001b[0m\u001b[0mfetchall\u001b[0m\u001b[0;34m(\u001b[0m\u001b[0;34m)\u001b[0m\u001b[0;34m:\u001b[0m\u001b[0;34m\u001b[0m\u001b[0;34m\u001b[0m\u001b[0m\n\u001b[1;32m      6\u001b[0m     \u001b[0mprint\u001b[0m\u001b[0;34m(\u001b[0m\u001b[0mx\u001b[0m\u001b[0;34m)\u001b[0m\u001b[0;34m\u001b[0m\u001b[0;34m\u001b[0m\u001b[0m\n",
      "\u001b[0;31mOperationalError\u001b[0m: no such column: PlaceofBirth"
     ]
    }
   ],
   "source": [
    "## Answer to question 3 here\n",
    "cursor.execute(\"SELECT * from authors\")\n",
    "pb = input(\"where were you born\")\n",
    "cursor.execute(\"SELECT * from books where PlaceofBirth=?\",[pb])\n",
    "for x in cursor.fetchall():\n",
    "    print(x)"
   ]
  },
  {
   "cell_type": "markdown",
   "metadata": {},
   "source": [
    "## **4)** Using the BookInfo database, ask the user to enter a year and display all the books published after that year, sorted by the year they were published."
   ]
  },
  {
   "cell_type": "code",
   "execution_count": null,
   "metadata": {},
   "outputs": [],
   "source": [
    "# Answer to question 4 here"
   ]
  },
  {
   "cell_type": "code",
   "execution_count": 6,
   "metadata": {},
   "outputs": [
    {
     "name": "stdout",
     "output_type": "stream",
     "text": [
      "what year do you want1999\n"
     ]
    },
    {
     "ename": "OperationalError",
     "evalue": "no such table: BookInfo",
     "output_type": "error",
     "traceback": [
      "\u001b[0;31m---------------------------------------------------------------------------\u001b[0m",
      "\u001b[0;31mOperationalError\u001b[0m                          Traceback (most recent call last)",
      "\u001b[0;32m<ipython-input-6-949a5586ba8b>\u001b[0m in \u001b[0;36m<module>\u001b[0;34m\u001b[0m\n\u001b[1;32m      1\u001b[0m \u001b[0myear\u001b[0m \u001b[0;34m=\u001b[0m \u001b[0minput\u001b[0m\u001b[0;34m(\u001b[0m\u001b[0;34m\"what year do you want\"\u001b[0m\u001b[0;34m)\u001b[0m\u001b[0;34m\u001b[0m\u001b[0;34m\u001b[0m\u001b[0m\n\u001b[0;32m----> 2\u001b[0;31m \u001b[0mcursor\u001b[0m\u001b[0;34m.\u001b[0m\u001b[0mexecute\u001b[0m\u001b[0;34m(\u001b[0m\u001b[0;34m\"SELECT * from BookInfo where newbp=?\"\u001b[0m\u001b[0;34m,\u001b[0m\u001b[0;34m[\u001b[0m\u001b[0myear\u001b[0m\u001b[0;34m]\u001b[0m\u001b[0;34m)\u001b[0m\u001b[0;34m\u001b[0m\u001b[0;34m\u001b[0m\u001b[0m\n\u001b[0m\u001b[1;32m      3\u001b[0m \u001b[0;32mfor\u001b[0m \u001b[0mx\u001b[0m \u001b[0;32min\u001b[0m \u001b[0mcursor\u001b[0m\u001b[0;34m.\u001b[0m\u001b[0mfetchall\u001b[0m\u001b[0;34m(\u001b[0m\u001b[0;34m)\u001b[0m\u001b[0;34m:\u001b[0m\u001b[0;34m\u001b[0m\u001b[0;34m\u001b[0m\u001b[0m\n\u001b[1;32m      4\u001b[0m     \u001b[0mprint\u001b[0m\u001b[0;34m(\u001b[0m\u001b[0mx\u001b[0m\u001b[0;34m)\u001b[0m\u001b[0;34m\u001b[0m\u001b[0;34m\u001b[0m\u001b[0m\n",
      "\u001b[0;31mOperationalError\u001b[0m: no such table: BookInfo"
     ]
    }
   ],
   "source": [
    "year = input(\"what year do you want\")\n",
    "cursor.execute(\"SELECT * from BookInfo where newbp=?\",[year])\n",
    "for x in cursor.fetchall():\n",
    "    print(x)"
   ]
  },
  {
   "cell_type": "code",
   "execution_count": null,
   "metadata": {},
   "outputs": [],
   "source": []
  },
  {
   "cell_type": "code",
   "execution_count": null,
   "metadata": {},
   "outputs": [],
   "source": []
  }
 ],
 "metadata": {
  "kernelspec": {
   "display_name": "Python 3",
   "language": "python",
   "name": "python3"
  },
  "language_info": {
   "codemirror_mode": {
    "name": "ipython",
    "version": 3
   },
   "file_extension": ".py",
   "mimetype": "text/x-python",
   "name": "python",
   "nbconvert_exporter": "python",
   "pygments_lexer": "ipython3",
   "version": "3.6.8"
  }
 },
 "nbformat": 4,
 "nbformat_minor": 2
}
